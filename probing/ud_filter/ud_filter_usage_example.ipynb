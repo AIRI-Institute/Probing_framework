{
 "cells": [
  {
   "cell_type": "code",
   "execution_count": 2,
   "id": "02dcc953",
   "metadata": {},
   "outputs": [],
   "source": [
    "from probing.ud_filter.filtering_probing import ProbingConlluFilter\n",
    "\n",
    "\n",
    "probing_filter = ProbingConlluFilter()"
   ]
  },
  {
   "cell_type": "code",
   "execution_count": 3,
   "id": "3ca74b3d",
   "metadata": {},
   "outputs": [],
   "source": [
    "%%time \n",
    "\n",
    "conllu_files = '''directory path or list of files paths'''\n",
    "probing_filter.upload_files(conllu_files)"
   ]
  },
  {
   "cell_type": "code",
   "execution_count": 4,
   "id": "9932c62c",
   "metadata": {},
   "outputs": [],
   "source": [
    "queries = '''complex query with multiple classes'''\n",
    "# Example: adverbial clausal modifiers VS clausal modifiers of a noun\n",
    "# queries = {\n",
    "#     'ADVCL': (\n",
    "#         {'H': {}, 'CL': {}}, \n",
    "#         {(\"H\", \"CL\"): {\"deprels\": \"^advcl$\"}}),\n",
    "#     'ACL': (\n",
    "#         {'H':{}, 'CL':{},}, \n",
    "#         {(\"H\", \"CL\"): {\"deprels\": \"^acl$\"}})}"
   ]
  },
  {
   "cell_type": "code",
   "execution_count": 5,
   "id": "be975ad8",
   "metadata": {},
   "outputs": [],
   "source": [
    "%%time\n",
    "\n",
    "probing_filter.filter_and_convert(queries=queries, \n",
    "                                  task_name='...', save_dir_path='...')"
   ]
  },
  {
   "cell_type": "code",
   "execution_count": 6,
   "id": "4082ca4a-848f-49a6-88ef-a2e6160c7ba0",
   "metadata": {},
   "outputs": [],
   "source": [
    "query = '''simple query with one class'''\n",
    "# Example: adverbal clause modifier\n",
    "# query = {'ADVCL': (\n",
    "#                   {'H': {}, 'CL': {}},\n",
    "#                   {(\"H\", \"CL\"): {\"deprels\": \"^advcl$\"}})}\n",
    "probing_filter.filter_and_convert(query,\n",
    "                                  task_name='...', save_dir_path='...')"
   ]
  },
  {
   "cell_type": "code",
   "execution_count": null,
   "id": "433141ff",
   "metadata": {},
   "outputs": [],
   "source": []
  }
 ],
 "metadata": {
  "kernelspec": {
   "display_name": "Python 3 (ipykernel)",
   "language": "python",
   "name": "python3"
  },
  "language_info": {
   "codemirror_mode": {
    "name": "ipython",
    "version": 3
   },
   "file_extension": ".py",
   "mimetype": "text/x-python",
   "name": "python",
   "nbconvert_exporter": "python",
   "pygments_lexer": "ipython3",
   "version": "3.9.6"
  }
 },
 "nbformat": 4,
 "nbformat_minor": 5
}