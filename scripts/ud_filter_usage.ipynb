{
 "cells": [
  {
   "cell_type": "code",
   "execution_count": 1,
   "id": "dbf663ca",
   "metadata": {},
   "outputs": [],
   "source": [
    "from probing.ud_filter.filtering_probing import ProbingConlluFilter"
   ]
  },
  {
   "cell_type": "code",
   "execution_count": 2,
   "id": "aae42f67",
   "metadata": {},
   "outputs": [],
   "source": [
    "probing_filter = ProbingConlluFilter()"
   ]
  },
  {
   "cell_type": "code",
   "execution_count": null,
   "id": "032caf4e",
   "metadata": {},
   "outputs": [],
   "source": [
    "# step 1: conllu files loading"
   ]
  },
  {
   "cell_type": "code",
   "execution_count": 3,
   "id": "38821091",
   "metadata": {},
   "outputs": [
    {
     "name": "stdout",
     "output_type": "stream",
     "text": [
      "CPU times: total: 12.5 s\n",
      "Wall time: 12.8 s\n"
     ]
    }
   ],
   "source": [
    "%%time \n",
    "# передаем папку с conllu файлами\n",
    "\n",
    "dir_path = '.\\\\data'\n",
    "probing_filter.upload_files(dir_conllu_path=dir_path)"
   ]
  },
  {
   "cell_type": "code",
   "execution_count": null,
   "id": "ae202089",
   "metadata": {},
   "outputs": [],
   "source": [
    "%%time \n",
    "# или передаем пути к файлам\n",
    "\n",
    "conllu_files = [\n",
    "    '.\\\\data\\\\en_ewt-ud-dev.conllu.txt',\n",
    "    '.\\\\data\\\\en_ewt-ud-train.conllu',\n",
    "]\n",
    "probing_filter.upload_files(*conllu_files)"
   ]
  },
  {
   "cell_type": "code",
   "execution_count": 4,
   "id": "374a8824",
   "metadata": {},
   "outputs": [],
   "source": [
    "queries = {\n",
    "    'PlurSubj': (\n",
    "        {\n",
    "            'S': {'Number': 'Sing'},\n",
    "            'V': {},\n",
    "        }, \n",
    "        {\n",
    "            ('V', 'S'): {'deprels': 'nsubj.*'}\n",
    "        }\n",
    "    ),\n",
    "    'NPlurSubj': (\n",
    "        {\n",
    "            'S': {'Number': '^(?!Sing$).*$'},\n",
    "            'V': {},\n",
    "        }, \n",
    "        {\n",
    "            ('V', 'S'): {'deprels': 'nsubj.*'}\n",
    "        }\n",
    "    ),\n",
    "}"
   ]
  },
  {
   "cell_type": "code",
   "execution_count": null,
   "id": "2ad05fd0",
   "metadata": {},
   "outputs": [],
   "source": [
    "# step 2: filtering and converting to the probing format"
   ]
  },
  {
   "cell_type": "code",
   "execution_count": 5,
   "id": "e97a1bac",
   "metadata": {},
   "outputs": [
    {
     "name": "stdout",
     "output_type": "stream",
     "text": [
      "CPU times: total: 4.45 s\n",
      "Wall time: 4.47 s\n"
     ]
    },
    {
     "data": {
      "text/plain": [
       "WindowsPath('C:/Users/Kra$0t04ka/Desktop/me/study/2 курс/UDprobing/ud_filter/data/en_ewt_subj_number.csv')"
      ]
     },
     "execution_count": 5,
     "metadata": {},
     "output_type": "execute_result"
    }
   ],
   "source": [
    "%%time \n",
    "# несколько запросов, каждый запрос - отедльный класс\n",
    "\n",
    "probing_filter.filter_and_convert(task_name='subj_number', **queries)"
   ]
  },
  {
   "cell_type": "code",
   "execution_count": 6,
   "id": "2e7c0357",
   "metadata": {},
   "outputs": [
    {
     "name": "stdout",
     "output_type": "stream",
     "text": [
      "CPU times: total: 3.12 s\n",
      "Wall time: 3.37 s\n"
     ]
    },
    {
     "data": {
      "text/plain": [
       "WindowsPath('C:/Users/Kra$0t04ka/Desktop/me/study/2 курс/UDprobing/ud_filter/data/en_ewt_subj_number_binary.csv')"
      ]
     },
     "execution_count": 6,
     "metadata": {},
     "output_type": "execute_result"
    }
   ],
   "source": [
    "%%time \n",
    "# один запрос, второй класс - все, что не подошло под запрос\n",
    "\n",
    "probing_filter.filter_and_convert(task_name='subj_number_binary', PlurSubj=queries['PlurSubj'])"
   ]
  }
 ],
 "metadata": {
  "kernelspec": {
   "display_name": "Python 3 (ipykernel)",
   "language": "python",
   "name": "python3"
  },
  "language_info": {
   "codemirror_mode": {
    "name": "ipython",
    "version": 3
   },
   "file_extension": ".py",
   "mimetype": "text/x-python",
   "name": "python",
   "nbconvert_exporter": "python",
   "pygments_lexer": "ipython3",
   "version": "3.9.12"
  }
 },
 "nbformat": 4,
 "nbformat_minor": 5
}
